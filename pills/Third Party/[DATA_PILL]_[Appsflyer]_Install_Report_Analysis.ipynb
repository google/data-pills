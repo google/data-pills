{
  "cells": [
    {
      "cell_type": "markdown",
      "metadata": {},
      "source": [
        "**PLEASE MAKE A COPY BEFORE CHANGING**\n",
        "\n",
        "**Copyright** 2022 Google LLC\n",
        "\n",
        "Licensed under the Apache License, Version 2.0 (the \"License\");\n",
        "you may not use this file except in compliance with the License.\n",
        "You may obtain a copy of the License at\n",
        "\n",
        "    https://www.apache.org/licenses/LICENSE-2.0\n",
        "\n",
        "Unless required by applicable law or agreed to in writing, software\n",
        "distributed under the License is distributed on an \"AS IS\" BASIS,\n",
        "WITHOUT WARRANTIES OR CONDITIONS OF ANY KIND, either express or implied.\n",
        "See the License for the specific language governing permissions and\n",
        "limitations under the License.\n",
        "\n",
        "\n",
        "<b>Important</b>\n",
        "This content are intended for educational and informational purposes only."
      ]
    },
    {
      "cell_type": "markdown",
      "metadata": {},
      "source": [
        "## Instructions\n",
        "\n",
        "##### 1. Export Install Report from Appsflyer\n",
        "##### 2. Upload csv to Google Drive\n",
        "##### 3. Configure the locations below then run this colab."
      ]
    },
    {
      "cell_type": "markdown",
      "metadata": {},
      "source": [
        "# Import necessary packages"
      ]
    },
    {
      "cell_type": "code",
      "execution_count": null,
      "metadata": {
        "id": "-UI6voLWzyk3",
        "vscode": {
          "languageId": "python"
        }
      },
      "outputs": [],
      "source": [
        "## Import Packages\n",
        "import pandas as pd\n",
        "import numpy as np\n",
        "import matplotlib.pyplot as plt\n",
        "import seaborn as sns"
      ]
    },
    {
      "cell_type": "markdown",
      "metadata": {
        "id": "ABEgtUqQN8j0"
      },
      "source": [
        "# Mount Google Drive"
      ]
    },
    {
      "cell_type": "code",
      "execution_count": null,
      "metadata": {
        "colab": {
          "base_uri": "https://localhost:8080/"
        },
        "id": "Y1pSQ-boEoVV",
        "outputId": "804ca21d-1100-4981-c3d5-6972b229225a",
        "vscode": {
          "languageId": "python"
        }
      },
      "outputs": [],
      "source": [
        "## Mount to Google Drive\n",
        "from google.colab import drive\n",
        "drive.mount('/content/drive')\n",
        "print(\"Log: Google Drive mounted on 'Files' tab\")"
      ]
    },
    {
      "cell_type": "markdown",
      "metadata": {
        "id": "aItyjyOaNiLk"
      },
      "source": [
        "# Import Appsflyer's *Install Report* as csv from Google Drive"
      ]
    },
    {
      "cell_type": "code",
      "execution_count": null,
      "metadata": {
        "colab": {
          "base_uri": "https://localhost:8080/"
        },
        "id": "NBbCBKDzEvMR",
        "outputId": "88c5aeac-96e4-43b1-8753-46d17f59c755",
        "vscode": {
          "languageId": "python"
        }
      },
      "outputs": [],
      "source": [
        "file_path = \"/content/drive/location/file.csv\" # @param {type:\"string\"}\n",
        "low_memory=False\n",
        "df = pd.read_csv(file_path)"
      ]
    },
    {
      "cell_type": "markdown",
      "metadata": {
        "id": "Yjp69IBzOAY1"
      },
      "source": [
        "# Prepare and check dataframe"
      ]
    },
    {
      "cell_type": "code",
      "execution_count": null,
      "metadata": {
        "colab": {
          "base_uri": "https://localhost:8080/",
          "height": 478
        },
        "id": "DIJ4Eyi9bEYK",
        "outputId": "ec9f123a-d438-4f5c-e501-88a3b01691d1",
        "vscode": {
          "languageId": "python"
        }
      },
      "outputs": [],
      "source": [
        "# @title Select necessary columns and prepare dataframe { vertical-output: true, display-mode: \"form\" }\n",
        "## Select necessary columns\n",
        "df = df[df['Event Name']=='install']\n",
        "df = df[['Attributed Touch Type'\n",
        "        , 'Attributed Touch Time'\n",
        "        , 'Install Time'\n",
        "        , 'Media Source'\n",
        "        , 'Country Code'\n",
        "        , 'Contributor 1 Touch Type' \n",
        "        , 'Contributor 1 Touch Time'\n",
        "        , 'Contributor 1 Media Source'\n",
        "        , 'Contributor 2 Touch Type' \n",
        "        , 'Contributor 2 Touch Time'\n",
        "        , 'Contributor 2 Media Source'\n",
        "        , 'Contributor 3 Touch Type' \n",
        "        , 'Contributor 3 Touch Time'\n",
        "        , 'Contributor 3 Media Source'\n",
        "         ]]\n",
        "## Calculate time Touch to install time\n",
        "df['Install-Touch Timestamp'] = (pd.to_datetime(df['Install Time']) -\\\n",
        "                                 pd.to_datetime(df['Attributed Touch Time']))\n",
        "\n",
        "df['Install-Touch sec'] = pd.to_timedelta(df['Install-Touch Timestamp'], unit='s')\n",
        "\n",
        "df['Install-Touch sec'] = df['Install-Touch sec'].dt.total_seconds()\n",
        "df.rename(columns={'Media Source': 'Attributed Media Source'}, inplace=True)\n",
        "df.head(3)"
      ]
    },
    {
      "cell_type": "code",
      "execution_count": null,
      "metadata": {
        "colab": {
          "base_uri": "https://localhost:8080/",
          "height": 488
        },
        "id": "no8CNVvFdkLI",
        "outputId": "94b62f1e-5571-4134-a709-6c39ea044af1",
        "vscode": {
          "languageId": "python"
        }
      },
      "outputs": [],
      "source": [
        "# @title Describe data { vertical-output: true, display-mode: \"form\" }\n",
        "\n",
        "grouping = \"Attributed Media Source\" #@param [\"Attributed Media Source\", \"Contributor 1 Media Source\", \"Contributor 2 Media Source\", \"Contributor 3 Media Source\"]\n",
        "\n",
        "df_cont = df.groupby(grouping).agg(['count', 'mean','min','max','std'])\n",
        "column = 'Install-Touch sec' # @param['Install-Touch sec']\n",
        "min_entries =  500 # @param {type:\"number\"}\n",
        "\n",
        "df_cont=df_cont[column].sort_values(by=['count'], ascending=False)\n",
        "df_cont=df_cont[df_cont['count']>=min_entries]\n",
        "\n",
        "##Affects next card\n",
        "medias = list(df_cont.index.values) \n",
        "\n",
        "df_cont"
      ]
    },
    {
      "cell_type": "markdown",
      "metadata": {
        "id": "LaQSPiK7OS3w"
      },
      "source": [
        "# Plots"
      ]
    },
    {
      "cell_type": "code",
      "execution_count": null,
      "metadata": {
        "colab": {
          "base_uri": "https://localhost:8080/",
          "height": 503
        },
        "id": "ilciueUOf_eN",
        "outputId": "90e83a83-ab82-4303-dab6-0e173efd4ad6",
        "vscode": {
          "languageId": "python"
        }
      },
      "outputs": [],
      "source": [
        "# @title Use Violin Plots to compare distributions side by side { vertical-output: true, display-mode: \"form\" }\n",
        "col_x = 'Attributed Media Source'\n",
        "col_y = 'Install-Touch sec'\n",
        "\n",
        "sns.set(rc={'axes.facecolor':'white', 'figure.facecolor':'white'}, font_scale=1.15)\n",
        "sns.set_theme(style=\"whitegrid\")\n",
        "\n",
        "sec_min =  0 # @param {type:\"number\"}\n",
        "sec_max = 960 # @param {type:\"number\"}\n",
        "\n",
        "f, ax = plt.subplots(figsize=(30, 8))\n",
        "ax = sns.violinplot(x=col_x\n",
        "              , y=col_y\n",
        "              , data=df[((df[col_y]<=sec_max))], \n",
        "                palette = \"tab20_r\",bw=.2, cut=1, linewidth=1, order=medias)"
      ]
    },
    {
      "cell_type": "code",
      "execution_count": null,
      "metadata": {
        "colab": {
          "base_uri": "https://localhost:8080/",
          "height": 611
        },
        "id": "pqV4kmqsWOGU",
        "outputId": "6fc9d5b8-4e65-4b1f-990c-78ca25f11cb6",
        "vscode": {
          "languageId": "python"
        }
      },
      "outputs": [],
      "source": [
        "#@title Plot histogram to compare distributions { vertical-output: true, display-mode: \"form\" }\n",
        "\n",
        "max_sec = 960 # @param {type:\"number\"}\n",
        "bsize = 10 # @param {type:\"number\"}\n",
        "#Change baseline to desired media source\n",
        "baseline = 'googleadwords_int' # @param[\"googleadwords_int\"] {allow-input: true}\n",
        "#Change media_source to compare\n",
        "media_source = 'googleadwords_int' # @param[\"googleadwords_int\"] {allow-input: true}\n",
        "\n",
        "df_filtered = df[(df['Install-Touch sec']<= max_sec) & (df['Install-Touch sec']>= 0)]\n",
        "df_filtered1 = df_filtered[df_filtered['Attributed Media Source']==baseline]\n",
        "df_filtered2 = df_filtered[df_filtered['Attributed Media Source']==media_source]\n",
        "\n",
        "sns.set(rc={'axes.facecolor':'white', 'figure.facecolor':'white'})\n",
        "f, ax = plt.subplots(figsize=(20, 10))\n",
        "sns.histplot( df_filtered1['Install-Touch sec'], stat='density', kde=False, \n",
        "             color=\"slategray\", label=baseline, bins=range(0, max_sec + bsize, bsize))\n",
        "sns.histplot( df_filtered2['Install-Touch sec'], stat='density', kde=False, \n",
        "             color=\"deeppink\", label=media_source, bins=range(0, max_sec + bsize, bsize))\n",
        "plt.legend()\n",
        "plt.show()"
      ]
    },
    {
      "cell_type": "markdown",
      "metadata": {
        "id": "8T03cS-zDf1e"
      },
      "source": [
        "# Contribution Ratio"
      ]
    },
    {
      "cell_type": "code",
      "execution_count": null,
      "metadata": {
        "colab": {
          "base_uri": "https://localhost:8080/",
          "height": 1000
        },
        "id": "mGsBk93gVbAb",
        "outputId": "6c104fb6-1de2-40e5-9bbd-f3e0a1196ebc",
        "vscode": {
          "languageId": "python"
        }
      },
      "outputs": [],
      "source": [
        "#@title Evaluate contribution/attribution ratio { vertical-output: true, display-mode: \"form\" }\n",
        "\n",
        "df_contrib = pd.DataFrame(df['Attributed Media Source'].value_counts())\\\n",
        "            .join(pd.DataFrame(df['Contributor 1 Media Source'].value_counts()),how='outer')\\\n",
        "            .join(pd.DataFrame(df['Contributor 2 Media Source'].value_counts()),how='outer')\\\n",
        "            .join(pd.DataFrame(df['Contributor 3 Media Source'].value_counts()),how='outer').fillna(0)\n",
        "\n",
        "df_contrib['Contributions']= df_contrib[list(df_contrib.columns)[1:]].sum(axis=1)\n",
        "df_contrib['Ratio']=df_contrib['Contributions'] / df_contrib['Attributed Media Source']\n",
        "\n",
        "df_contrib=df_contrib.sort_values(by=['Attributed Media Source'],ascending=False)\n",
        "df_contrib.style.format({'Attributed Media Source':\"{:,}\",\\\n",
        "                         'Contributor 1 Media Source':\"{:,}\",\\\n",
        "                         'Contributor 2 Media Source':\"{:,}\",\\\n",
        "                         'Contributor 3 Media Source':\"{:,}\",\\\n",
        "                         'Contributions':\"{:,}\",\\\n",
        "                         'Ratio': \"{:.2%}\"})"
      ]
    }
  ],
  "metadata": {
    "colab": {
      "collapsed_sections": [
        "12bMVc1-N5TI",
        "ABEgtUqQN8j0"
      ],
      "name": "[DATA_PILL]_[Appsflyer]_Install_Report_Analysis.ipynb",
      "provenance": []
    },
    "kernelspec": {
      "display_name": "Python 3",
      "name": "python3"
    }
  },
  "nbformat": 4,
  "nbformat_minor": 0
}
