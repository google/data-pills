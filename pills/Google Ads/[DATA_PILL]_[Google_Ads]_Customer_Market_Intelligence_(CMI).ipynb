{
  "nbformat": 4,
  "nbformat_minor": 0,
  "metadata": {
    "colab": {
      "name": "[CM] Customer Market Intelligence (CMI)",
      "provenance": [],
      "collapsed_sections": []
    },
    "kernelspec": {
      "name": "python3",
      "display_name": "Python 3"
    }
  },
  "cells": [
    {
      "cell_type": "markdown",
      "metadata": {
        "id": "zAjuEzhY2P20"
      },
      "source": [
        "**PLEASE MAKE A COPY BEFORE CHANGING**\n",
        "\n",
        "**Copyright** 2018 Google LLC\n",
        "\n",
        "Licensed under the Apache License, Version 2.0 (the \"License\");\n",
        "you may not use this file except in compliance with the License.\n",
        "You may obtain a copy of the License at\n",
        "\n",
        "    https://www.apache.org/licenses/LICENSE-2.0\n",
        "\n",
        "Unless required by applicable law or agreed to in writing, software\n",
        "distributed under the License is distributed on an \"AS IS\" BASIS,\n",
        "WITHOUT WARRANTIES OR CONDITIONS OF ANY KIND, either express or implied.\n",
        "See the License for the specific language governing permissions and\n",
        "limitations under the License.\n",
        "\n",
        "\n",
        "<b>Important</b>\n",
        "This content are intended for educational and informational purposes only."
      ]
    },
    {
      "cell_type": "markdown",
      "metadata": {
        "id": "jb5AbRRQjHz0"
      },
      "source": [
        "## Instructions\n",
        "\n",
        "##### 1. Upload your CRM audience lists to Google Ads through Customer Match \n",
        "##### 2. In Google Ads Audience Manager, click the Audiences and then go into \"Audience Insights\"\n",
        "##### 3. Download the reports from Audience Insights and place them in a locally acessible folder\n",
        "##### 4. Configure the locations below then run this colab."
      ]
    },
    {
      "cell_type": "markdown",
      "metadata": {
        "id": "c4743yoOQfzV"
      },
      "source": [
        "# Configuration"
      ]
    },
    {
      "cell_type": "markdown",
      "metadata": {
        "id": "lhMMfBncR7nY"
      },
      "source": [
        "**Form fields**\n",
        "\n",
        "\n",
        "*   **audienceX_name**: name of the audience segment\n",
        "*   **audienceX_file_location**: location of the CSV file containing Audience Insights from Customer Match\n",
        "* **audienceX_size**: size of the audience as shown in the List Size fields inside Customer Match\n",
        "* **isUsingGDrive**: check this box if the location of the CSV files are inside a Google Drive. Make sure to use the \"/gdrive/\" path for file locations.\n",
        "\n"
      ]
    },
    {
      "cell_type": "code",
      "metadata": {
        "id": "etaITd9zQD_m",
        "cellView": "form"
      },
      "source": [
        "audience1_name = \"\" #@param {type:\"string\"}\n",
        "audience1_file_location = \"\" #@param {type:\"string\"}\n",
        "audience1_size =  0#@param {type:\"integer\"}\n",
        "audience2_name = \"\" #@param {type:\"string\"}\n",
        "audience2_file_location = \"\" #@param {type:\"string\"}\n",
        "audience2_size = 0 #@param {type:\"integer\"}\n",
        "audience3_name = \"\" #@param {type:\"string\"}\n",
        "audience3_file_location = \"\" #@param {type:\"string\"}\n",
        "audience3_size =  0#@param {type:\"integer\"}\n",
        "isUsingGDrive = False #@param {type:\"boolean\"}\n",
        "\n"
      ],
      "execution_count": null,
      "outputs": []
    },
    {
      "cell_type": "markdown",
      "metadata": {
        "id": "O6jaQzqG3XXm"
      },
      "source": [
        "##Import Libs and configure Plotly"
      ]
    },
    {
      "cell_type": "code",
      "metadata": {
        "id": "A-iNHcmf1C_q"
      },
      "source": [
        "import IPython\n",
        "import plotly\n",
        "import plotly.offline as py\n",
        "import plotly.graph_objs as go\n",
        "import math\n",
        "import json\n",
        "import numpy as np\n",
        "import pandas as pd\n",
        "import re\n",
        "from scipy import spatial\n",
        "from scipy.spatial import distance\n",
        "from sklearn.cluster import KMeans\n",
        "from google.colab import drive\n",
        "from google.colab import auth\n",
        "from sklearn import preprocessing\n",
        "from sklearn.preprocessing import scale\n",
        "from sklearn.feature_extraction.text import TfidfTransformer\n",
        "from sklearn.preprocessing import MinMaxScaler\n",
        "from apiclient.discovery import build\n",
        "from oauth2client.service_account import ServiceAccountCredentials\n",
        "from IPython.display import display\n",
        "import matplotlib as mpl\n",
        "\n",
        "py.init_notebook_mode(connected=False)\n",
        "%matplotlib inline\n",
        "py.init_notebook_mode(connected=False)\n"
      ],
      "execution_count": null,
      "outputs": []
    },
    {
      "cell_type": "markdown",
      "metadata": {
        "id": "oJx-lXZG576Q"
      },
      "source": [
        "##Mount Drive and read the Customer Match Insights CSVs"
      ]
    },
    {
      "cell_type": "code",
      "metadata": {
        "id": "IZ_G_2FdcUfW"
      },
      "source": [
        "if (isUsingGDrive):\n",
        "  drive.mount('/gdrive')\n",
        "df_1 = pd.read_csv(audience1_file_location,usecols=['Dimension','Audience','List distribution'])\n",
        "df_1['List distribution'] = round(df_1['List distribution']*audience1_size)\n",
        "df_2 = pd.read_csv(audience2_file_location,usecols=['Dimension','Audience','List distribution'])\n",
        "df_2['List distribution'] = round(df_2['List distribution']*audience2_size)\n",
        "if ((audience3_name != \"\") & (audience3_file_location != \"\") & (audience3_size > 0)):\n",
        "  audience3_enabled = True\n",
        "  df_3 = pd.read_csv(audience3_file_location,usecols=['Dimension','Audience','List distribution'])\n",
        "  df_3['List distribution'] = round(df_3['List distribution']*audience3_size)\n",
        "else:\n",
        "  audience3_enabled = False"
      ],
      "execution_count": null,
      "outputs": []
    },
    {
      "cell_type": "markdown",
      "metadata": {
        "id": "JWinJq253vYm"
      },
      "source": [
        "## Define Plot Function"
      ]
    },
    {
      "cell_type": "code",
      "metadata": {
        "id": "4kCAXdcd0J_v"
      },
      "source": [
        "def plot3d(df, item_name_col, value_name_cols):\n",
        "  #add additional column if only 2 audiences presented\n",
        "  if len(value_name_cols) == 2:\n",
        "    df['no_audience'] = 0\n",
        "    value_name_cols.append('no_audience')\n",
        "\n",
        "  py.init_notebook_mode(connected=False)\n",
        "\n",
        "  trace_points = go.Scatter3d(\n",
        "      x=df[value_name_cols[0]],\n",
        "      y=df[value_name_cols[1]],\n",
        "      z=df[value_name_cols[2]],\n",
        "      #z=df[value_name_cols[2]] if len(value_name_cols) > 2 else 0,\n",
        "      text=df[item_name_col],\n",
        "      mode='markers',\n",
        "      marker=dict(\n",
        "          size=12,\n",
        "          line=dict(\n",
        "              color='rgb(0, 0, 0, 1)',\n",
        "              width=0.5\n",
        "          ),\n",
        "          color=df.apply(lambda x: \"rgba(\" + str(int(x[value_name_cols[0]]*255)) \n",
        "            + ',' + str(int(x[value_name_cols[1]]*255)) \n",
        "            + ',' + str(int(x[value_name_cols[2]]*255)) + ',1)', axis=1),\n",
        "          opacity=1\n",
        "      )\n",
        "  )\n",
        "  trace_c1 = go.Scatter3d(\n",
        "      x=[1],\n",
        "      y=[0],\n",
        "      z=[0],\n",
        "      text=value_name_cols[0],\n",
        "      mode='text+markers',\n",
        "      marker=dict(\n",
        "          size=120,\n",
        "          line=dict(\n",
        "              color='rgb(255, 0, 0, 0.5)',\n",
        "              width=3\n",
        "          ),\n",
        "          color='rgb(255, 0, 0, 0.5)',#'rgba(217, 217, 217, 0.14)\n",
        "          opacity=.5,\n",
        "      )\n",
        "  )\n",
        "  trace_c2 = go.Scatter3d(\n",
        "      x=[0],\n",
        "      y=[1],\n",
        "      z=[0],\n",
        "      text=value_name_cols[1],\n",
        "      mode='text+markers',\n",
        "      marker=dict(\n",
        "          size=120,\n",
        "          line=dict(\n",
        "              color='rgb(0, 255, 0, 0.5)',\n",
        "              width=3\n",
        "          ),\n",
        "          color='rgb(0, 255, 0, 0.5)',#'rgba(217, 217, 217, 0.14)\n",
        "          opacity=.5,\n",
        "      )\n",
        "  )\n",
        "  trace_c3 = go.Scatter3d(\n",
        "      x=[0],\n",
        "      y=[0],\n",
        "      z=[1],\n",
        "      text=value_name_cols[2],\n",
        "      mode='text+markers',\n",
        "      marker=dict(\n",
        "          size=120,\n",
        "          line=dict(\n",
        "              color='rgb(0, 0, 255, 0.5)',\n",
        "              width=3\n",
        "          ),\n",
        "          color='rgb(0, 0, 255, 0.5)',#'rgba(217, 217, 217, 0.14)\n",
        "          opacity=.5,\n",
        "      )\n",
        "  )\n",
        "  data = [trace_points, trace_c1,trace_c2,trace_c3]\n",
        "  layout = go.Layout(\n",
        "      margin=dict(\n",
        "          l=0,\n",
        "          r=0,\n",
        "          b=0,\n",
        "          t=0\n",
        "      )\n",
        "  )\n",
        "  fig = go.Figure(data=data, layout=layout)\n",
        "  #py.iplot(fig, filename='simple-3d-scatter')\n",
        "\n",
        "  py.iplot(data)\n",
        "  # Plot and embed in ipython notebook!\n",
        "  #py.iplot(data, filename='basic-scatter')\n",
        "\n",
        "def configure_plotly_browser_state():\n",
        "  import IPython\n",
        "  display(IPython.core.display.HTML('''\n",
        "        <script src=\"/static/components/requirejs/require.js\"></script>\n",
        "        <script>\n",
        "          requirejs.config({\n",
        "            paths: {\n",
        "              base: '/static/base',\n",
        "              plotly: 'https://cdn.plot.ly/plotly-1.5.1.min.js?noext',\n",
        "            },\n",
        "          });\n",
        "        </script>\n",
        "        '''))"
      ],
      "execution_count": null,
      "outputs": []
    },
    {
      "cell_type": "markdown",
      "metadata": {
        "id": "EdZIUSYW30vA"
      },
      "source": [
        "## Define TF-IDF Function"
      ]
    },
    {
      "cell_type": "code",
      "metadata": {
        "id": "iF7nRPS72Lvk"
      },
      "source": [
        "def scalarToSigmod(scalar):#0-1 input\n",
        "  x = (scalar-.5)*8\n",
        "  return 1 / (1 + math.exp(-x))\n",
        "\n",
        "def scalarToTanh(scalar):\n",
        "  x = (scalar-.5)*6\n",
        "  return (math.tanh(x)+1)/2\n",
        "\n",
        "def calc_tfidf(df, label_col_name, transformation='tanh'):\n",
        "  transformer = TfidfTransformer(smooth_idf=True, norm='l1', use_idf=False)\n",
        "\n",
        "  X = df.copy()\n",
        "  y = X[label_col_name]\n",
        "  X = X.drop([label_col_name], axis=1)\n",
        "\n",
        "  tfidf = transformer.fit_transform(X)\n",
        "  #create pd with results\n",
        "  results = pd.DataFrame.from_records(tfidf.toarray() , columns=list(X.columns.values))\n",
        "  #transpose\n",
        "  results_transposed = results.T.reset_index()\n",
        "  results_transposed.columns = [\"COMPARED_USERLIST_FULL_NAME\"] + list(y)\n",
        "  results_transposed\n",
        "  #scale to 0-1\n",
        "  scaler = MinMaxScaler()\n",
        "  results_transposed[list(y)] = scaler.fit_transform(results_transposed[list(y)])\n",
        "\n",
        "  for col in list(y):\n",
        "    if transformation == 'sig':\n",
        "      results_transposed[col] = results_transposed.apply(lambda x: scalarToSigmod(x[col]), axis=1)\n",
        "    elif transformation == 'tanh':\n",
        "      results_transposed[col] = results_transposed.apply(lambda x: scalarToTanh(x[col]), axis=1)\n",
        "  return results_transposed"
      ],
      "execution_count": null,
      "outputs": []
    },
    {
      "cell_type": "markdown",
      "metadata": {
        "id": "a0EVP1y84A7J"
      },
      "source": [
        "## Define GA API reporting functions"
      ]
    },
    {
      "cell_type": "code",
      "metadata": {
        "id": "hZaxNk8j3HkT"
      },
      "source": [
        "def process_report(report):\n",
        "  data=[]\n",
        "  columnHeader = report.get('columnHeader', {})\n",
        "  dimensionHeaders = columnHeader.get('dimensions', [])\n",
        "  metricHeaders = columnHeader.get('metricHeader', {}).get('metricHeaderEntries', [])\n",
        "  metricHeaders = [header['name'] for header in metricHeaders]\n",
        "  df_headers = dimensionHeaders + metricHeaders\n",
        "\n",
        "  for row in report['data']['rows']:\n",
        "    d = row['dimensions']\n",
        "    m = row['metrics'][0]['values']\n",
        "    data.append(d+m)\n",
        "  df = pd.DataFrame(data, columns=df_headers)\n",
        "  pivot = pd.pivot_table(df, \n",
        "                        index=[df.columns[0]], \n",
        "                        columns=['ga:segment'],\n",
        "                        aggfunc='sum').T\n",
        "  df = pd.DataFrame(pivot.fillna(0).to_records())\n",
        "  return df[df.columns[1:]]"
      ],
      "execution_count": null,
      "outputs": []
    },
    {
      "cell_type": "markdown",
      "metadata": {
        "id": "El_6e2hnjn8K"
      },
      "source": [
        "##Run TF-IDF"
      ]
    },
    {
      "cell_type": "code",
      "metadata": {
        "id": "goZq6ox8muXA"
      },
      "source": [
        "df_1['Segmento'] = audience1_name\n",
        "df_2['Segmento'] = audience2_name\n",
        "if (audience3_enabled):\n",
        "  df_3['Segmento'] = audience3_name\n",
        "  df_list = [df_1,df_2,df_3]\n",
        "else:\n",
        "  df_list = [df_1,df_2]\n",
        "df = pd.concat(df_list)\n",
        "df = df.loc[df['Dimension'] != 'City']\n",
        "df = df.loc[df['Dimension'] != 'Country']\n",
        "df['Audience'] = df['Dimension'] + ' | ' + df['Audience']\n",
        "df.drop(['Dimension'],axis=1,inplace=True)\n",
        "df_pivot = pd.pivot_table(df, index=['Segmento'], columns=['Audience'],aggfunc='sum').fillna(0)\n",
        "df_pivot.columns = df_pivot.columns.droplevel(level=0)\n",
        "df_pivot.reset_index(level=[0],inplace=True)\n",
        "cmi_df = calc_tfidf(df_pivot,'Segmento')\n",
        "cmi_df.head()"
      ],
      "execution_count": null,
      "outputs": []
    },
    {
      "cell_type": "markdown",
      "metadata": {
        "id": "Sj_3vDc0khHC"
      },
      "source": [
        "##Plot the results"
      ]
    },
    {
      "cell_type": "code",
      "metadata": {
        "id": "Kdsp44MDap3F"
      },
      "source": [
        "def plot_3d(cmi_df):\n",
        "  configure_plotly_browser_state()\n",
        "  y = list(cmi_df.drop(['COMPARED_USERLIST_FULL_NAME'],axis=1).columns)\n",
        "  plot3d(cmi_df,'COMPARED_USERLIST_FULL_NAME',list(y))\n",
        "\n",
        "def print_ordered_list(cmi_df):\n",
        "  vecs = [[1,0,0], [0,1,0], [0,0,1]]\n",
        "  segments = list(cmi_df.columns[1:])\n",
        "  cmi_df['vector'] = cmi_df[[*segments]].values.tolist()\n",
        "  for i in range(len(segments)):\n",
        "    data = []\n",
        "    col = 'distance_{}'.format(segments[i])\n",
        "    for row in cmi_df.iterrows():\n",
        "      euc = distance.euclidean(row[1]['vector'], vecs[i])\n",
        "      data.append(euc)\n",
        "    cmi_df[col] = data\n",
        "\n",
        "\n",
        "  for col in cmi_df.columns[-3:]:\n",
        "    display(cmi_df[['COMPARED_USERLIST_FULL_NAME', col]].sort_values(by=col, ascending=True))\n",
        "\n",
        "plot_3d(cmi_df)\n",
        "print_ordered_list(cmi_df)"
      ],
      "execution_count": null,
      "outputs": []
    },
    {
      "cell_type": "code",
      "metadata": {
        "id": "homk-KpOJ_aU"
      },
      "source": [
        ""
      ],
      "execution_count": null,
      "outputs": []
    }
  ]
}